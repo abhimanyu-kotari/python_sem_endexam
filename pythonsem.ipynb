# Import necessary libraries
import pandas as pd
import seaborn as sns
import matplotlib.pyplot as plt

# Load the dataset
df = pd.read_csv('bankloan.csv')

# Optional: Check for missing values
print(df.isnull().sum())

# 1. Correlation Heatmap
plt.figure(figsize=(12, 8))
sns.heatmap(df.corr(), annot=True, cmap='coolwarm', fmt=".2f")
plt.title('Correlation Heatmap of Bank Loan Data')
plt.show()

# 2. Age Distribution
sns.histplot(df['Age'].dropna(), kde=True, bins=30)
plt.title('Age Distribution')
plt.xlabel('Age')
plt.ylabel('Frequency')
plt.show()

# 3. Loan Approval by Education Level
sns.countplot(data=df, x='Education', hue='Personal.Loan')
plt.title('Loan Approval by Education Level')
plt.xlabel('Education Level')
plt.ylabel('Count')
plt.legend(title='Loan Approved')
plt.show()


# 4. Income vs Mortgage (colored by Loan Approval)
sns.scatterplot(data=df, x='Income', y='Mortgage', hue='Personal.Loan')
plt.title('Income vs Mortgage')
plt.xlabel('Income (in $k)')
plt.ylabel('Mortgage (in $)')
plt.show()


# 5. Family Size vs Loan Approval
sns.countplot(data=df, x='Family', hue='Personal.Loan')
plt.title('Loan Approval by Family Size')
plt.xlabel('Family Members')
plt.ylabel('Count')
plt.show()


sns.countplot(data=df, x='Online', hue='Personal.Loan')
plt.title('Loan Approval by Online Banking Usage')
plt.xlabel('Online Banking Usage (0 = No, 1 = Yes)')
plt.ylabel('Number of Customers')
plt.legend(title='Loan Approved')
plt.show()
